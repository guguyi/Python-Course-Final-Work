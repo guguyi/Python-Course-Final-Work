{
 "cells": [
  {
   "cell_type": "code",
   "execution_count": 162,
   "metadata": {},
   "outputs": [],
   "source": [
    "import re\n",
    "import sys\n",
    "import csv\n",
    "import pandas\n",
    "import requests\n",
    "from lxml import etree\n",
    "from bs4 import BeautifulSoup\n",
    "from collections import OrderedDict"
   ]
  },
  {
   "cell_type": "code",
   "execution_count": 3,
   "metadata": {},
   "outputs": [],
   "source": [
    "filename='yyqx_txt/yyqx_1.txt'"
   ]
  },
  {
   "cell_type": "code",
   "execution_count": 4,
   "metadata": {},
   "outputs": [],
   "source": [
    "with open(filename,mode='r',encoding='utf-8') as f:\n",
    "    html=f.read()"
   ]
  },
  {
   "cell_type": "code",
   "execution_count": 5,
   "metadata": {},
   "outputs": [
    {
     "name": "stdout",
     "output_type": "stream",
     "text": [
      "yes\n"
     ]
    }
   ],
   "source": [
    "with open(filename,mode='r',encoding='utf-8') as f:\n",
    "    html=f.read()\n",
    "# 删除<?xml version=\"1.0\" encoding=\"UTF-8\"?>\n",
    "string='<?xml version=\"1.0\" encoding=\"UTF-8\"?>'\n",
    "if string in html:\n",
    "    print('yes')\n",
    "    html=html.replace(string,'')"
   ]
  },
  {
   "cell_type": "code",
   "execution_count": 6,
   "metadata": {},
   "outputs": [],
   "source": [
    "soup=BeautifulSoup(html,'html.parser')"
   ]
  },
  {
   "cell_type": "code",
   "execution_count": 35,
   "metadata": {},
   "outputs": [],
   "source": [
    "tree=etree.HTML(html)"
   ]
  },
  {
   "cell_type": "code",
   "execution_count": 36,
   "metadata": {},
   "outputs": [],
   "source": [
    "info=tree.xpath('//div[@class=\"c\"]')"
   ]
  },
  {
   "cell_type": "code",
   "execution_count": 41,
   "metadata": {},
   "outputs": [],
   "source": [
    "is_exist = info[0].xpath(\"div/span[@class='ctt']\")"
   ]
  },
  {
   "cell_type": "code",
   "execution_count": 43,
   "metadata": {},
   "outputs": [
    {
     "data": {
      "text/plain": [
       "13"
      ]
     },
     "execution_count": 43,
     "metadata": {},
     "output_type": "execute_result"
    }
   ],
   "source": [
    "len(info)"
   ]
  },
  {
   "cell_type": "code",
   "execution_count": 42,
   "metadata": {},
   "outputs": [
    {
     "data": {
      "text/plain": [
       "[<Element span at 0x22381939848>]"
      ]
     },
     "execution_count": 42,
     "metadata": {},
     "output_type": "execute_result"
    }
   ],
   "source": [
    "is_exist"
   ]
  },
  {
   "cell_type": "code",
   "execution_count": 46,
   "metadata": {},
   "outputs": [],
   "source": [
    "def is_original(info):\n",
    "    \"\"\"\n",
    "        判断是否为原创微博\n",
    "    \"\"\"\n",
    "    is_original = info.xpath(\"div/span[@class='cmt']\")\n",
    "    if len(is_original) > 3:\n",
    "        return False\n",
    "    else:\n",
    "        return True"
   ]
  },
  {
   "cell_type": "code",
   "execution_count": 47,
   "metadata": {},
   "outputs": [],
   "source": [
    "def get_original_weibo(info, weibo_id):\n",
    "    \"\"\"获取原创微博\"\"\"\n",
    "    try:\n",
    "        weibo_content = self.deal_garbled(info)\n",
    "        weibo_content = weibo_content[:weibo_content.rfind(u'赞')]\n",
    "        a_text = info.xpath('div//a/text()')\n",
    "        if u'全文' in a_text:\n",
    "            weibo_link = 'https://weibo.cn/comment/' + weibo_id\n",
    "            wb_content = self.get_long_weibo(weibo_link)\n",
    "            if wb_content:\n",
    "                weibo_content = wb_content\n",
    "        return weibo_content\n",
    "    except Exception as e:\n",
    "        print(e)"
   ]
  },
  {
   "cell_type": "code",
   "execution_count": null,
   "metadata": {},
   "outputs": [],
   "source": []
  },
  {
   "cell_type": "code",
   "execution_count": 72,
   "metadata": {},
   "outputs": [],
   "source": [
    "def get_weibo_content(info, is_original):\n",
    "    \"\"\"获取微博内容\"\"\"\n",
    "    try:\n",
    "        weibo_id = info.xpath('@id')[0][2:]\n",
    "        if is_original:\n",
    "            weibo_content = get_original_weibo(info, weibo_id)\n",
    "        else:\n",
    "            weibo_content = get_retweet(info, weibo_id)\n",
    "        print(weibo_content)\n",
    "        return weibo_content\n",
    "    except Exception as e:\n",
    "        print(e)"
   ]
  },
  {
   "cell_type": "code",
   "execution_count": 73,
   "metadata": {},
   "outputs": [
    {
     "data": {
      "text/plain": [
       "lxml.etree._Element"
      ]
     },
     "execution_count": 73,
     "metadata": {},
     "output_type": "execute_result"
    }
   ],
   "source": [
    "type(info[0])"
   ]
  },
  {
   "cell_type": "code",
   "execution_count": 48,
   "metadata": {},
   "outputs": [],
   "source": [
    "info=tree.xpath('//div[@class=\"c\"]')"
   ]
  },
  {
   "cell_type": "code",
   "execution_count": 51,
   "metadata": {},
   "outputs": [],
   "source": [
    "is_exist=info[0].xpath(\"div/span[@class='ctt']\")"
   ]
  },
  {
   "cell_type": "code",
   "execution_count": 52,
   "metadata": {},
   "outputs": [
    {
     "data": {
      "text/plain": [
       "[<Element span at 0x22381939848>]"
      ]
     },
     "execution_count": 52,
     "metadata": {},
     "output_type": "execute_result"
    }
   ],
   "source": [
    "is_exist"
   ]
  },
  {
   "cell_type": "code",
   "execution_count": 53,
   "metadata": {},
   "outputs": [],
   "source": [
    "weibo=OrderedDict()"
   ]
  },
  {
   "cell_type": "code",
   "execution_count": 54,
   "metadata": {},
   "outputs": [
    {
     "data": {
      "text/plain": [
       "True"
      ]
     },
     "execution_count": 54,
     "metadata": {},
     "output_type": "execute_result"
    }
   ],
   "source": [
    "is_original(info[0])"
   ]
  },
  {
   "cell_type": "code",
   "execution_count": 59,
   "metadata": {},
   "outputs": [],
   "source": [
    "weibo['id']=info[0].xpath('@id')[0][2:]"
   ]
  },
  {
   "cell_type": "code",
   "execution_count": 60,
   "metadata": {},
   "outputs": [
    {
     "data": {
      "text/plain": [
       "'I9Va8w9Ab'"
      ]
     },
     "execution_count": 60,
     "metadata": {},
     "output_type": "execute_result"
    }
   ],
   "source": [
    "weibo['id']"
   ]
  },
  {
   "cell_type": "code",
   "execution_count": 61,
   "metadata": {},
   "outputs": [
    {
     "data": {
      "text/plain": [
       "['M_I9Va8w9Ab']"
      ]
     },
     "execution_count": 61,
     "metadata": {},
     "output_type": "execute_result"
    }
   ],
   "source": [
    "weibo['content']=info[0].xpath('')"
   ]
  },
  {
   "cell_type": "code",
   "execution_count": 62,
   "metadata": {},
   "outputs": [],
   "source": [
    "x=info[0]"
   ]
  },
  {
   "cell_type": "code",
   "execution_count": 65,
   "metadata": {},
   "outputs": [],
   "source": [
    "import sys"
   ]
  },
  {
   "cell_type": "code",
   "execution_count": 66,
   "metadata": {},
   "outputs": [],
   "source": [
    "   x = (x.xpath('string(.)').replace(u'\\u200b', '').encode(\n",
    "                sys.stdout.encoding, 'ignore').decode(sys.stdout.encoding))"
   ]
  },
  {
   "cell_type": "code",
   "execution_count": 67,
   "metadata": {},
   "outputs": [
    {
     "data": {
      "text/plain": [
       "'[置顶]补作业 7000W请查收 TFBOYS-易烊千玺的微博视频 \\xa0赞[3799479]\\xa0转发[1000000]\\xa0评论[1000000]\\xa0收藏\\xa02019-10-04 12:24:27\\xa0来自nova5Pro人像超级夜景'"
      ]
     },
     "execution_count": 67,
     "metadata": {},
     "output_type": "execute_result"
    }
   ],
   "source": [
    "x"
   ]
  },
  {
   "cell_type": "code",
   "execution_count": 68,
   "metadata": {},
   "outputs": [],
   "source": [
    "x = x[:x.rfind(u'赞')]"
   ]
  },
  {
   "cell_type": "code",
   "execution_count": 69,
   "metadata": {},
   "outputs": [
    {
     "data": {
      "text/plain": [
       "'[置顶]补作业 7000W请查收 TFBOYS-易烊千玺的微博视频 \\xa0'"
      ]
     },
     "execution_count": 69,
     "metadata": {},
     "output_type": "execute_result"
    }
   ],
   "source": [
    "x"
   ]
  },
  {
   "cell_type": "code",
   "execution_count": 70,
   "metadata": {},
   "outputs": [],
   "source": [
    "text=info[0].xpath('div//a/text()')"
   ]
  },
  {
   "cell_type": "code",
   "execution_count": 182,
   "metadata": {},
   "outputs": [],
   "source": [
    "class html_parser(object):\n",
    "    weibo=[]\n",
    "    cookies = {\n",
    "        'cookie': '_T_WM=94460060722; SCF=Akc6-rgt_orPQPcMl2x5HV85EqkMAXlAtNu4p7Xjq-Yk3pldnC21hCsqvkdyckOmI9VGTWz2-fh41X9Gv2M3pY0.; SUB=_2A25z2CfhDeRhGeBL7FES9i3LzzSIHXVRI0mprDV6PUJbkdANLUb3kW1NRssixUMbX_chzOWyuMU2qvh9yNV6fdq6; SUHB=0Ryq3AMeUc9U3v'}\n",
    "    headers = {\n",
    "        'user-agent': 'Mozilla/5.0 (Windows NT 10.0; Win64; x64) AppleWebKit/537.36 (KHTML, like Gecko) Chrome/83.0.4103.97 Safari/537.36'}\n",
    "    \n",
    "    def __init__(self,filename,csvname,txtname,wrote_num):\n",
    "        self.filename=filename\n",
    "        self.to_csvname=csvname\n",
    "        self.to_txtname=txtname\n",
    "        self.wrote_num=wrote_num\n",
    "        \n",
    "    def get_tree(self):\n",
    "        \"\"\"\n",
    "            生成lxml.etree._Element对象\n",
    "        \"\"\"\n",
    "        try:\n",
    "            with open(self.filename,mode='r',encoding='utf-8') as f:\n",
    "                html=f.read()\n",
    "            # 删除<?xml version=\"1.0\" encoding=\"UTF-8\"?>\n",
    "            string='<?xml version=\"1.0\" encoding=\"UTF-8\"?>'\n",
    "            if string in html:\n",
    "                html=html.replace(string,'')\n",
    "            self.html=html\n",
    "            tree=etree.HTML(html)\n",
    "            self.tree=tree\n",
    "        except Exception as e:\n",
    "            print(e)\n",
    "            print(\"get_tree error!\")\n",
    "    \n",
    "    def deal_grabled(self,info):\n",
    "        \"\"\"\n",
    "            处理爬取原创微博时的乱码\n",
    "            info: lxml.etree._Element对象\n",
    "        \"\"\"\n",
    "        try:\n",
    "            info=(info.xpath('string(.)')).replace(u'\\u200b','').encode(\n",
    "            sys.stdout.encoding,'ignore').decode(sys.stdout.encoding)\n",
    "            return info\n",
    "        except Exception as e:\n",
    "            print(e)\n",
    "            print(\"deal_grabled error!\")\n",
    "    \n",
    "    def is_original(self,info):\n",
    "        \"\"\"\n",
    "            判断一条微博是否为原创微博\n",
    "            info: lxml.etree._Element对象\n",
    "        \"\"\"\n",
    "        is_original=info.xpath('div/span[@class=\"cmt\"]')#原创微博span标签中有class=\"cmt\"属性\n",
    "        if len(is_original)>3:\n",
    "            return False\n",
    "        else:\n",
    "            return True\n",
    "    \n",
    "    def get_long_weibo(self, url):\n",
    "        \"\"\"\n",
    "            获取长原创微博\n",
    "            长原创微博需要再次请求url\n",
    "            url: 'https://weibo.cn/comment/'+weibo_id\n",
    "        \"\"\"\n",
    "        try:\n",
    "            r=requests.get(url,headers=self.headers,cookies=self.cookies)\n",
    "            r.raise_for_status()\n",
    "            r.encoding=r.apparent_encoding\n",
    "            html=r.content\n",
    "            tree=etree.HTML(html)\n",
    "            info=tree.xpath('//div[@class=\"c\"]')[1]#定位\n",
    "            content=self.deal_grabled(info)#处理乱码\n",
    "            time = info.xpath(\"//span[@class='ct']/text()\")[0]\n",
    "            weibo_content = content[content.find(':') +\n",
    "                                       1:content.rfind(time)]#分割\n",
    "            return weibo_content\n",
    "            \n",
    "        except Exception as e:\n",
    "            print(e)\n",
    "            print(\"get_long_weibo error!\")\n",
    "    \n",
    "    def get_original_weibo(self,info,weibo_id):\n",
    "        \"\"\"\n",
    "            获取原创微博\n",
    "            info: lxml.etree._Element对象\n",
    "            weibo_id: weibo对应的唯一id\n",
    "        \"\"\"\n",
    "        try:\n",
    "            weibo_content=self.deal_grabled(info)#处理乱码\n",
    "            weibo_content=weibo_content[:weibo_content.rfind(u'赞')]\n",
    "            a_text=info.xpath('div//a/text()')\n",
    "            if u'全文' in a_text:# 长微博判断\n",
    "                weibo_link= 'https://weibo.cn/comment/' + weibo_id\n",
    "                content=self.get_long_weibo(weibo_link)\n",
    "                if content:\n",
    "                    weibo_content=content\n",
    "            return weibo_content\n",
    "        except Exception as e:\n",
    "            print(e)\n",
    "            print(\"get_original_weibo error!\")\n",
    "                    \n",
    "    \n",
    "    def get_repost_weibo(self,info,weibo_id):\n",
    "        \"\"\"\n",
    "            获取转发微博的转发理由\n",
    "            info: lxml.etree._Element对象\n",
    "            weibo_id: weibo对应的唯一id\n",
    "        \"\"\"\n",
    "        try:\n",
    "            reason=self.deal_grabled(info.xpath('div')[-1])\n",
    "            reason=reason[:reason.rindex(u'赞')]\n",
    "            weibo_content=reason\n",
    "            return weibo_content\n",
    "        except Exception as e:\n",
    "            print(e)\n",
    "            print(\"get_repost_weibo error!\")\n",
    "    \n",
    "    \n",
    "    def get_weibo_content(self,info,is_original):\n",
    "        \"\"\"\n",
    "            获取微博正文\n",
    "            info: lxml.etree._Element对象\n",
    "            is_original: 是否为原创微博 对应原创微博的解析函数\n",
    "        \"\"\"\n",
    "        try:\n",
    "            weibo_id = info.xpath('@id')[0][2:]\n",
    "            if is_original:#原创微博处理\n",
    "                weibo_content = self.get_original_weibo(info, weibo_id)\n",
    "            else:#转发微博处理\n",
    "                weibo_content = self.get_repost_weibo(info, weibo_id)\n",
    "            print(weibo_content)#打印微博正文\n",
    "            return weibo_content\n",
    "        except Exception as e:\n",
    "            print(e)\n",
    "            print(\"get_weibo_content error!\")\n",
    "        \n",
    "        \n",
    "    \n",
    "    def get_one_weibo(self,info):\n",
    "        \"\"\"\n",
    "            获取某一条微博的相关信息\n",
    "        \"\"\"\n",
    "        try:\n",
    "            weibo=OrderedDict()\n",
    "            is_original=self.is_original(info)#是否为原创微博\n",
    "            weibo['id']=info.xpath('@id')[0][2:]#微博id是第2位以后的字符串\n",
    "            weibo['content']=self.get_weibo_content(info,is_original)#获取微博内容\n",
    "            weibo['original']=is_original#原创微博标识        \n",
    "            return weibo\n",
    "        except Exception as e:\n",
    "            print(e)\n",
    "            print(\"get_one_weibo error!\")\n",
    "    \n",
    "    def get_all_weibo(self):\n",
    "        \"\"\"\n",
    "            获取一个html页面的全部微博\n",
    "        \"\"\"\n",
    "        try:\n",
    "            info=self.tree.xpath('//div[@class=\"c\"]')\n",
    "            is_exist=info[0].xpath('div/span[@class=\"ctt\"]')#判断当前页面是否有微博\n",
    "            if is_exist:\n",
    "                for i in range(len(info)-2):\n",
    "                    weibo=self.get_one_weibo(info[i])#获取一条微博的信息\n",
    "                    if weibo:\n",
    "                        self.weibo.append(weibo)\n",
    "        except Exception as e:\n",
    "            print(e)\n",
    "            print(\"get_all_weibo error!\")\n",
    "            \n",
    "    def write_txt(self):\n",
    "        \"\"\"\n",
    "            将爬取到的微博写入txt文件中\n",
    "        \"\"\"\n",
    "        try:\n",
    "            result=[]\n",
    "            self.num=0\n",
    "            for k,i in enumerate(self.weibo):\n",
    "                result.append('微博id: '+i['id']+'\\n'+u'微博正文/转发理由: '+i['content']+\n",
    "                              '\\n'+'是否原创: '+str(i['original'])+'\\n\\n')\n",
    "                self.num+=1#微博计数器加一\n",
    "            print(result)\n",
    "            self.result=result\n",
    "            self.write_result=''.join(result)\n",
    "            with open(self.to_txtname,'a',encoding='utf-8') as f:\n",
    "                f.write(self.write_result)\n",
    "            print('write '+str(self.num)+' weibo'+'!')\n",
    "            print(\"write to txt over!\")\n",
    "        except Exception as e:\n",
    "            print(e)\n",
    "            print(\"write_txt error!\")\n",
    "    def write_csv(self):\n",
    "        \"\"\"\n",
    "            将爬取到的微博写入csv文件中\n",
    "        \"\"\"\n",
    "        try:\n",
    "            result_headers=['微博id','微博正文/转发理由','是否原创']\n",
    "            result_data = [w.values() for w in self.weibo]\n",
    "            print(type(result_data))\n",
    "            print(result_data)\n",
    "            \n",
    "            with open(self.to_csvname,'a',encoding='utf-8-sig',newline='') as f:\n",
    "                writer=csv.writer(f)\n",
    "                if self.wrote_num==0:\n",
    "                    writer.writerows([result_headers])\n",
    "                writer.writerows(result_data)\n",
    "                \n",
    "        except Exception as e:\n",
    "            print(e)"
   ]
  },
  {
   "cell_type": "code",
   "execution_count": 183,
   "metadata": {},
   "outputs": [],
   "source": [
    "test=html_parser('yyqx_txt/yyqx_1.txt','outputcsv.csv','outputtxt.txt',0)"
   ]
  },
  {
   "cell_type": "code",
   "execution_count": 184,
   "metadata": {},
   "outputs": [],
   "source": [
    "test.get_tree()"
   ]
  },
  {
   "cell_type": "code",
   "execution_count": 185,
   "metadata": {},
   "outputs": [
    {
     "name": "stdout",
     "output_type": "stream",
     "text": [
      "[置顶]补作业 7000W请查收 TFBOYS-易烊千玺的微博视频  \n",
      "好久不见，哥@胡歌 ，一起去看场电影？ #LongTimeNoSee# FIRST青年电影展的秒拍视频  \n",
      "今晚八点，@阿玛尼 星品线上发布会，不见不散。  原图 \n",
      "转发理由:坚持自我主张，展现自信态度，和我一起成为#无可T代#的自己。@TiffanyAndCo蒂芙尼  \n",
      "谢谢倾听和陪伴，今日收官，我们不说告别。#朋友请听好#  [组图共4张] 原图 \n",
      "转发理由:今晚七点，@可爱多 线上发布会见。#吃在一起 可爱多了#  \n",
      "转发理由:小彤哥新剧明天开播，看起来  \n",
      "#朋友请听好#“湖南地方代表队”上线🤗朋友请听好第10期：千玺李俊濠变湖南代表队！ 谢娜被张颜齐猜崩溃？  [组图共3张] 原图 \n",
      "#相信未来义演# “乐”抚人心，希望这首《南屏晚钟》能给大家带来温暖。 TFBOYS-易烊千玺的微博视频  \n",
      "#朋友请听好# “在水一方器乐团”直播首秀朋友请听好第9期：“在水一方乐器团”限定营业 何炅假期过后考虑退休？  [组图共4张] 原图 \n",
      "转发理由:#因为热爱，尽善而行# 和麦当劳一起，遇见更多美好。  \n"
     ]
    }
   ],
   "source": [
    "test.get_all_weibo()"
   ]
  },
  {
   "cell_type": "code",
   "execution_count": 186,
   "metadata": {},
   "outputs": [
    {
     "data": {
      "text/plain": [
       "[OrderedDict([('id', 'I9Va8w9Ab'),\n",
       "              ('content', '[置顶]补作业 7000W请查收 TFBOYS-易烊千玺的微博视频 \\xa0'),\n",
       "              ('original', True)]),\n",
       " OrderedDict([('id', 'J5Fx4aSdp'),\n",
       "              ('content',\n",
       "               '好久不见，哥@胡歌 ，一起去看场电影？ #LongTimeNoSee# FIRST青年电影展的秒拍视频 \\xa0'),\n",
       "              ('original', True)]),\n",
       " OrderedDict([('id', 'J5dhzs7rm'),\n",
       "              ('content', '今晚八点，@阿玛尼 星品线上发布会，不见不散。 \\xa0原图\\xa0'),\n",
       "              ('original', True)]),\n",
       " OrderedDict([('id', 'J4TDnCTGL'),\n",
       "              ('content',\n",
       "               '转发理由:坚持自我主张，展现自信态度，和我一起成为#无可T代#的自己。@TiffanyAndCo蒂芙尼\\xa0\\xa0'),\n",
       "              ('original', False)]),\n",
       " OrderedDict([('id', 'J3RLPvOlZ'),\n",
       "              ('content', '谢谢倾听和陪伴，今日收官，我们不说告别。#朋友请听好# \\xa0[组图共4张]\\xa0原图\\xa0'),\n",
       "              ('original', True)]),\n",
       " OrderedDict([('id', 'J2k3RgU82'),\n",
       "              ('content', '转发理由:今晚七点，@可爱多 线上发布会见。#吃在一起 可爱多了#\\xa0\\xa0'),\n",
       "              ('original', False)]),\n",
       " OrderedDict([('id', 'J1UlTqZwI'),\n",
       "              ('content', '转发理由:小彤哥新剧明天开播，看起来\\xa0\\xa0'),\n",
       "              ('original', False)]),\n",
       " OrderedDict([('id', 'J1JsH6NZ0'),\n",
       "              ('content',\n",
       "               '#朋友请听好#“湖南地方代表队”上线🤗朋友请听好第10期：千玺李俊濠变湖南代表队！ 谢娜被张颜齐猜崩溃？ \\xa0[组图共3张]\\xa0原图\\xa0'),\n",
       "              ('original', True)]),\n",
       " OrderedDict([('id', 'J1axn9v32'),\n",
       "              ('content',\n",
       "               '#相信未来义演# “乐”抚人心，希望这首《南屏晚钟》能给大家带来温暖。 TFBOYS-易烊千玺的微博视频 \\xa0'),\n",
       "              ('original', True)]),\n",
       " OrderedDict([('id', 'J0EKPioaW'),\n",
       "              ('content',\n",
       "               '#朋友请听好# “在水一方器乐团”直播首秀朋友请听好第9期：“在水一方乐器团”限定营业 何炅假期过后考虑退休？ \\xa0[组图共4张]\\xa0原图\\xa0'),\n",
       "              ('original', True)]),\n",
       " OrderedDict([('id', 'J0tVnqd5A'),\n",
       "              ('content', '转发理由:#因为热爱，尽善而行# 和麦当劳一起，遇见更多美好。\\xa0\\xa0'),\n",
       "              ('original', False)])]"
      ]
     },
     "execution_count": 186,
     "metadata": {},
     "output_type": "execute_result"
    }
   ],
   "source": [
    "test.weibo"
   ]
  },
  {
   "cell_type": "code",
   "execution_count": 187,
   "metadata": {},
   "outputs": [
    {
     "name": "stdout",
     "output_type": "stream",
     "text": [
      "['微博id: I9Va8w9Ab\\n微博正文/转发理由: [置顶]补作业 7000W请查收 TFBOYS-易烊千玺的微博视频 \\xa0\\n是否原创: True\\n\\n', '微博id: J5Fx4aSdp\\n微博正文/转发理由: 好久不见，哥@胡歌 ，一起去看场电影？ #LongTimeNoSee# FIRST青年电影展的秒拍视频 \\xa0\\n是否原创: True\\n\\n', '微博id: J5dhzs7rm\\n微博正文/转发理由: 今晚八点，@阿玛尼 星品线上发布会，不见不散。 \\xa0原图\\xa0\\n是否原创: True\\n\\n', '微博id: J4TDnCTGL\\n微博正文/转发理由: 转发理由:坚持自我主张，展现自信态度，和我一起成为#无可T代#的自己。@TiffanyAndCo蒂芙尼\\xa0\\xa0\\n是否原创: False\\n\\n', '微博id: J3RLPvOlZ\\n微博正文/转发理由: 谢谢倾听和陪伴，今日收官，我们不说告别。#朋友请听好# \\xa0[组图共4张]\\xa0原图\\xa0\\n是否原创: True\\n\\n', '微博id: J2k3RgU82\\n微博正文/转发理由: 转发理由:今晚七点，@可爱多 线上发布会见。#吃在一起 可爱多了#\\xa0\\xa0\\n是否原创: False\\n\\n', '微博id: J1UlTqZwI\\n微博正文/转发理由: 转发理由:小彤哥新剧明天开播，看起来\\xa0\\xa0\\n是否原创: False\\n\\n', '微博id: J1JsH6NZ0\\n微博正文/转发理由: #朋友请听好#“湖南地方代表队”上线🤗朋友请听好第10期：千玺李俊濠变湖南代表队！ 谢娜被张颜齐猜崩溃？ \\xa0[组图共3张]\\xa0原图\\xa0\\n是否原创: True\\n\\n', '微博id: J1axn9v32\\n微博正文/转发理由: #相信未来义演# “乐”抚人心，希望这首《南屏晚钟》能给大家带来温暖。 TFBOYS-易烊千玺的微博视频 \\xa0\\n是否原创: True\\n\\n', '微博id: J0EKPioaW\\n微博正文/转发理由: #朋友请听好# “在水一方器乐团”直播首秀朋友请听好第9期：“在水一方乐器团”限定营业 何炅假期过后考虑退休？ \\xa0[组图共4张]\\xa0原图\\xa0\\n是否原创: True\\n\\n', '微博id: J0tVnqd5A\\n微博正文/转发理由: 转发理由:#因为热爱，尽善而行# 和麦当劳一起，遇见更多美好。\\xa0\\xa0\\n是否原创: False\\n\\n']\n",
      "write 11 weibo!\n",
      "write to txt over!\n"
     ]
    }
   ],
   "source": [
    "test.write_txt()"
   ]
  },
  {
   "cell_type": "code",
   "execution_count": 188,
   "metadata": {},
   "outputs": [
    {
     "data": {
      "text/plain": [
       "'微博id: I9Va8w9Ab\\n微博正文/转发理由: [置顶]补作业 7000W请查收 TFBOYS-易烊千玺的微博视频 \\xa0\\n是否原创: True\\n\\n微博id: J5Fx4aSdp\\n微博正文/转发理由: 好久不见，哥@胡歌 ，一起去看场电影？ #LongTimeNoSee# FIRST青年电影展的秒拍视频 \\xa0\\n是否原创: True\\n\\n微博id: J5dhzs7rm\\n微博正文/转发理由: 今晚八点，@阿玛尼 星品线上发布会，不见不散。 \\xa0原图\\xa0\\n是否原创: True\\n\\n微博id: J4TDnCTGL\\n微博正文/转发理由: 转发理由:坚持自我主张，展现自信态度，和我一起成为#无可T代#的自己。@TiffanyAndCo蒂芙尼\\xa0\\xa0\\n是否原创: False\\n\\n微博id: J3RLPvOlZ\\n微博正文/转发理由: 谢谢倾听和陪伴，今日收官，我们不说告别。#朋友请听好# \\xa0[组图共4张]\\xa0原图\\xa0\\n是否原创: True\\n\\n微博id: J2k3RgU82\\n微博正文/转发理由: 转发理由:今晚七点，@可爱多 线上发布会见。#吃在一起 可爱多了#\\xa0\\xa0\\n是否原创: False\\n\\n微博id: J1UlTqZwI\\n微博正文/转发理由: 转发理由:小彤哥新剧明天开播，看起来\\xa0\\xa0\\n是否原创: False\\n\\n微博id: J1JsH6NZ0\\n微博正文/转发理由: #朋友请听好#“湖南地方代表队”上线🤗朋友请听好第10期：千玺李俊濠变湖南代表队！ 谢娜被张颜齐猜崩溃？ \\xa0[组图共3张]\\xa0原图\\xa0\\n是否原创: True\\n\\n微博id: J1axn9v32\\n微博正文/转发理由: #相信未来义演# “乐”抚人心，希望这首《南屏晚钟》能给大家带来温暖。 TFBOYS-易烊千玺的微博视频 \\xa0\\n是否原创: True\\n\\n微博id: J0EKPioaW\\n微博正文/转发理由: #朋友请听好# “在水一方器乐团”直播首秀朋友请听好第9期：“在水一方乐器团”限定营业 何炅假期过后考虑退休？ \\xa0[组图共4张]\\xa0原图\\xa0\\n是否原创: True\\n\\n微博id: J0tVnqd5A\\n微博正文/转发理由: 转发理由:#因为热爱，尽善而行# 和麦当劳一起，遇见更多美好。\\xa0\\xa0\\n是否原创: False\\n\\n'"
      ]
     },
     "execution_count": 188,
     "metadata": {},
     "output_type": "execute_result"
    }
   ],
   "source": [
    "test.write_result"
   ]
  },
  {
   "cell_type": "code",
   "execution_count": 189,
   "metadata": {},
   "outputs": [
    {
     "name": "stdout",
     "output_type": "stream",
     "text": [
      "<class 'list'>\n",
      "[odict_values(['I9Va8w9Ab', '[置顶]补作业 7000W请查收 TFBOYS-易烊千玺的微博视频 \\xa0', True]), odict_values(['J5Fx4aSdp', '好久不见，哥@胡歌 ，一起去看场电影？ #LongTimeNoSee# FIRST青年电影展的秒拍视频 \\xa0', True]), odict_values(['J5dhzs7rm', '今晚八点，@阿玛尼 星品线上发布会，不见不散。 \\xa0原图\\xa0', True]), odict_values(['J4TDnCTGL', '转发理由:坚持自我主张，展现自信态度，和我一起成为#无可T代#的自己。@TiffanyAndCo蒂芙尼\\xa0\\xa0', False]), odict_values(['J3RLPvOlZ', '谢谢倾听和陪伴，今日收官，我们不说告别。#朋友请听好# \\xa0[组图共4张]\\xa0原图\\xa0', True]), odict_values(['J2k3RgU82', '转发理由:今晚七点，@可爱多 线上发布会见。#吃在一起 可爱多了#\\xa0\\xa0', False]), odict_values(['J1UlTqZwI', '转发理由:小彤哥新剧明天开播，看起来\\xa0\\xa0', False]), odict_values(['J1JsH6NZ0', '#朋友请听好#“湖南地方代表队”上线🤗朋友请听好第10期：千玺李俊濠变湖南代表队！ 谢娜被张颜齐猜崩溃？ \\xa0[组图共3张]\\xa0原图\\xa0', True]), odict_values(['J1axn9v32', '#相信未来义演# “乐”抚人心，希望这首《南屏晚钟》能给大家带来温暖。 TFBOYS-易烊千玺的微博视频 \\xa0', True]), odict_values(['J0EKPioaW', '#朋友请听好# “在水一方器乐团”直播首秀朋友请听好第9期：“在水一方乐器团”限定营业 何炅假期过后考虑退休？ \\xa0[组图共4张]\\xa0原图\\xa0', True]), odict_values(['J0tVnqd5A', '转发理由:#因为热爱，尽善而行# 和麦当劳一起，遇见更多美好。\\xa0\\xa0', False])]\n"
     ]
    }
   ],
   "source": [
    "test.write_csv()"
   ]
  },
  {
   "cell_type": "code",
   "execution_count": null,
   "metadata": {},
   "outputs": [],
   "source": []
  }
 ],
 "metadata": {
  "kernelspec": {
   "display_name": "Python 3",
   "language": "python",
   "name": "python3"
  },
  "language_info": {
   "codemirror_mode": {
    "name": "ipython",
    "version": 3
   },
   "file_extension": ".py",
   "mimetype": "text/x-python",
   "name": "python",
   "nbconvert_exporter": "python",
   "pygments_lexer": "ipython3",
   "version": "3.7.6"
  }
 },
 "nbformat": 4,
 "nbformat_minor": 4
}
