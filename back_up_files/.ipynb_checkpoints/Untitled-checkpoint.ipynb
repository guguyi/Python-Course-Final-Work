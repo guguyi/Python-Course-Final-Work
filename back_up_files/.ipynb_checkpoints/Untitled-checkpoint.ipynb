{
 "cells": [
  {
   "cell_type": "code",
   "execution_count": 32,
   "metadata": {},
   "outputs": [],
   "source": [
    "import re\n",
    "import time\n",
    "import requests\n",
    "import pathlib\n",
    "from lxml import etree\n",
    "from bs4 import BeautifulSoup"
   ]
  },
  {
   "cell_type": "code",
   "execution_count": 38,
   "metadata": {},
   "outputs": [
    {
     "ename": "SyntaxError",
     "evalue": "invalid syntax (<ipython-input-38-a2009ec13bac>, line 23)",
     "output_type": "error",
     "traceback": [
      "\u001b[1;36m  File \u001b[1;32m\"<ipython-input-38-a2009ec13bac>\"\u001b[1;36m, line \u001b[1;32m23\u001b[0m\n\u001b[1;33m    self.url = self.url0+'u/'str(uid)\u001b[0m\n\u001b[1;37m                               ^\u001b[0m\n\u001b[1;31mSyntaxError\u001b[0m\u001b[1;31m:\u001b[0m invalid syntax\n"
     ]
    }
   ],
   "source": [
    "class wb_spider:\n",
    "    \"\"\"\n",
    "        请求网址:https://weibo.cn/\n",
    "        请求方法:GET\n",
    "        由于weibo反爬机制很强,所以先获取指定用户的全部weibo界面,保存在.txt文件中。\n",
    "        相较于https://m.weibo.cn/ 和 https://weibo.com/ ,这个网址好爬很多。\n",
    "    \"\"\"\n",
    "    # cookies = {'your cookies'}  # 你的cookies\n",
    "    cookies = {\n",
    "        'cookie': '_T_WM=94460060722; SCF=Akc6-rgt_orPQPcMl2x5HV85EqkMAXlAtNu4p7Xjq-Yk3pldnC21hCsqvkdyckOmI9VGTWz2-fh41X9Gv2M3pY0.; SUB=_2A25z2CfhDeRhGeBL7FES9i3LzzSIHXVRI0mprDV6PUJbkdANLUb3kW1NRssixUMbX_chzOWyuMU2qvh9yNV6fdq6; SUHB=0Ryq3AMeUc9U3v'}\n",
    "    headers = {\n",
    "        'user-agent': 'Mozilla/5.0 (Windows NT 10.0; Win64; x64) AppleWebKit/537.36 (KHTML, like Gecko) Chrome/83.0.4103.97 Safari/537.36'}\n",
    "    url0 = 'https://weibo.cn/'\n",
    "\n",
    "    def __init__(self, uid, username):\n",
    "        \"\"\"\n",
    "            构造函数\n",
    "            uid: 要爬取用户的uid\n",
    "        \"\"\"\n",
    "        if isinstance(uid,str):\n",
    "            self.url = self.url0+str(uid)\n",
    "        elif isinstance(uid,int):\n",
    "            self.url = self.url0+'u/' + str(uid)\n",
    "        self.username = username\n",
    "        self.pagenum = 0\n",
    "\n",
    "    def get_pagenum(self):\n",
    "        \"\"\"\n",
    "            通过爬取微博用户的第一页来获取总微博页数\n",
    "        \"\"\"\n",
    "        try:\n",
    "            r = requests.get(self.url, headers=self.headers,\n",
    "                             cookies=self.cookies)\n",
    "            r.raise_for_status()\n",
    "            r.encoding = r.apparent_encoding\n",
    "            html = r.content\n",
    "            tree = etree.HTML(html)\n",
    "            pagelist = tree.xpath('//*[@id=\"pagelist\"]/form/div/text()')\n",
    "            self.pagenum = int(str(pagelist)[16:-3])\n",
    "        except Exception as e:\n",
    "            print(e)\n",
    "\n",
    "    def filenaming(self):\n",
    "        \"\"\"\n",
    "            文件名称生成并创建空文件\n",
    "            self.username: 用户名\n",
    "            self.pagenum: 微博总页数\n",
    "        \"\"\"\n",
    "        filenamelist = []\n",
    "        for i in range(1, self.pagenum+1):\n",
    "            filename = self.username+'_'+str(i)+'.txt'\n",
    "            filenamelist.append(filename)\n",
    "            pathlib.Path(filename).touch()\n",
    "        self.filenamelist = filenamelist\n",
    "\n",
    "    def get_html(self):\n",
    "        \"\"\"\n",
    "            将抓取到的html页面存储到txt文件中\n",
    "        \"\"\"\n",
    "        #time_start = time.time()\n",
    "        # print(time_start)\n",
    "        for i in range(1, self.pagenum+1):\n",
    "            try:\n",
    "                time.sleep(3)\n",
    "                # tmp_url = 'https://weibo.cn/tfyiyangqianxi?page='+str(i)\n",
    "                tmp_url = self.url+'?page='+str(i)\n",
    "                print(tmp_url)\n",
    "                r = requests.get(tmp_url, cookies=cookies, headers=headers)\n",
    "                r.raise_for_status()\n",
    "                html = r.content\n",
    "                with open(filename_list[i-1], mode='wb+') as f:\n",
    "                    f.write(html)\n",
    "                time.sleep(5)\n",
    "                print(i)\n",
    "            except Exception as e:\n",
    "                print('spider failed')\n",
    "                print(e)\n",
    "        time_end = time.time()\n",
    "        print(time_end)\n"
   ]
  },
  {
   "cell_type": "code",
   "execution_count": 34,
   "metadata": {},
   "outputs": [],
   "source": [
    "wb=wb_spider('tfyiyangqianxi','yyqx')"
   ]
  },
  {
   "cell_type": "code",
   "execution_count": 25,
   "metadata": {},
   "outputs": [
    {
     "data": {
      "text/plain": [
       "'https://weibo.cn/tfyiyangqianxi'"
      ]
     },
     "execution_count": 25,
     "metadata": {},
     "output_type": "execute_result"
    }
   ],
   "source": [
    "wb.url"
   ]
  },
  {
   "cell_type": "code",
   "execution_count": 26,
   "metadata": {},
   "outputs": [
    {
     "data": {
      "text/plain": [
       "'https://weibo.cn/'"
      ]
     },
     "execution_count": 26,
     "metadata": {},
     "output_type": "execute_result"
    }
   ],
   "source": [
    "wb.url0"
   ]
  },
  {
   "cell_type": "code",
   "execution_count": 29,
   "metadata": {},
   "outputs": [],
   "source": [
    "wb.get_pagenum()"
   ]
  },
  {
   "cell_type": "code",
   "execution_count": 35,
   "metadata": {},
   "outputs": [],
   "source": [
    "wb.pagenum=83"
   ]
  },
  {
   "cell_type": "code",
   "execution_count": 36,
   "metadata": {},
   "outputs": [],
   "source": [
    "wb.filenaming()"
   ]
  },
  {
   "cell_type": "code",
   "execution_count": null,
   "metadata": {},
   "outputs": [],
   "source": []
  }
 ],
 "metadata": {
  "kernelspec": {
   "display_name": "Python 3",
   "language": "python",
   "name": "python3"
  },
  "language_info": {
   "codemirror_mode": {
    "name": "ipython",
    "version": 3
   },
   "file_extension": ".py",
   "mimetype": "text/x-python",
   "name": "python",
   "nbconvert_exporter": "python",
   "pygments_lexer": "ipython3",
   "version": "3.7.6"
  }
 },
 "nbformat": 4,
 "nbformat_minor": 4
}
