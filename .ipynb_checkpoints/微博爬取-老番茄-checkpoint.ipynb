{
 "cells": [
  {
   "cell_type": "code",
   "execution_count": 1,
   "metadata": {},
   "outputs": [],
   "source": [
    "from weibo_spider import *\n",
    "from html_parser import *"
   ]
  },
  {
   "cell_type": "code",
   "execution_count": 2,
   "metadata": {},
   "outputs": [],
   "source": [
    "wb=wb_spider('3708072513','yyqx')"
   ]
  },
  {
   "cell_type": "code",
   "execution_count": 3,
   "metadata": {},
   "outputs": [
    {
     "name": "stdout",
     "output_type": "stream",
     "text": [
      "https://weibo.cn/3708072513\n"
     ]
    }
   ],
   "source": [
    "print(wb.url)"
   ]
  },
  {
   "cell_type": "code",
   "execution_count": 4,
   "metadata": {},
   "outputs": [
    {
     "name": "stdout",
     "output_type": "stream",
     "text": [
      "https://weibo.cn/\n"
     ]
    }
   ],
   "source": [
    "print(wb.url0)"
   ]
  },
  {
   "cell_type": "code",
   "execution_count": 5,
   "metadata": {},
   "outputs": [],
   "source": [
    "wb.get_pagenum()"
   ]
  },
  {
   "cell_type": "code",
   "execution_count": 6,
   "metadata": {},
   "outputs": [
    {
     "data": {
      "text/plain": [
       "8"
      ]
     },
     "execution_count": 6,
     "metadata": {},
     "output_type": "execute_result"
    }
   ],
   "source": [
    "wb.pagenum"
   ]
  },
  {
   "cell_type": "code",
   "execution_count": 7,
   "metadata": {},
   "outputs": [],
   "source": [
    "wb.filenaming()"
   ]
  },
  {
   "cell_type": "code",
   "execution_count": 8,
   "metadata": {
    "scrolled": true
   },
   "outputs": [
    {
     "data": {
      "text/plain": [
       "['yyqx_1.txt',\n",
       " 'yyqx_2.txt',\n",
       " 'yyqx_3.txt',\n",
       " 'yyqx_4.txt',\n",
       " 'yyqx_5.txt',\n",
       " 'yyqx_6.txt',\n",
       " 'yyqx_7.txt',\n",
       " 'yyqx_8.txt']"
      ]
     },
     "execution_count": 8,
     "metadata": {},
     "output_type": "execute_result"
    }
   ],
   "source": [
    "wb.filenamelist"
   ]
  },
  {
   "cell_type": "code",
   "execution_count": 9,
   "metadata": {},
   "outputs": [
    {
     "name": "stdout",
     "output_type": "stream",
     "text": [
      "https://weibo.cn/3708072513?page=1\n",
      "1\n",
      "https://weibo.cn/3708072513?page=2\n",
      "2\n",
      "https://weibo.cn/3708072513?page=3\n",
      "3\n",
      "https://weibo.cn/3708072513?page=4\n",
      "4\n",
      "https://weibo.cn/3708072513?page=5\n",
      "5\n",
      "https://weibo.cn/3708072513?page=6\n",
      "6\n",
      "https://weibo.cn/3708072513?page=7\n",
      "7\n",
      "https://weibo.cn/3708072513?page=8\n",
      "8\n",
      "1591950686.1830308\n"
     ]
    }
   ],
   "source": [
    "wb.get_html()"
   ]
  },
  {
   "cell_type": "code",
   "execution_count": 9,
   "metadata": {},
   "outputs": [],
   "source": [
    "to_txtfile = 'lfq_txt.txt'\n",
    "to_csvfile = 'lfq_csv.csv'"
   ]
  },
  {
   "cell_type": "code",
   "execution_count": 10,
   "metadata": {},
   "outputs": [],
   "source": [
    "filenamelist = []\n",
    "for i in range(1, 84):\n",
    "    filenamelist.append('lfq_txt/lfq_'+str(i)+'.txt')"
   ]
  },
  {
   "cell_type": "code",
   "execution_count": 11,
   "metadata": {},
   "outputs": [
    {
     "data": {
      "text/plain": [
       "['lfq_txt/lfq_1.txt',\n",
       " 'lfq_txt/lfq_2.txt',\n",
       " 'lfq_txt/lfq_3.txt',\n",
       " 'lfq_txt/lfq_4.txt',\n",
       " 'lfq_txt/lfq_5.txt',\n",
       " 'lfq_txt/lfq_6.txt',\n",
       " 'lfq_txt/lfq_7.txt',\n",
       " 'lfq_txt/lfq_8.txt',\n",
       " 'lfq_txt/lfq_9.txt',\n",
       " 'lfq_txt/lfq_10.txt',\n",
       " 'lfq_txt/lfq_11.txt',\n",
       " 'lfq_txt/lfq_12.txt',\n",
       " 'lfq_txt/lfq_13.txt',\n",
       " 'lfq_txt/lfq_14.txt',\n",
       " 'lfq_txt/lfq_15.txt',\n",
       " 'lfq_txt/lfq_16.txt',\n",
       " 'lfq_txt/lfq_17.txt',\n",
       " 'lfq_txt/lfq_18.txt',\n",
       " 'lfq_txt/lfq_19.txt',\n",
       " 'lfq_txt/lfq_20.txt',\n",
       " 'lfq_txt/lfq_21.txt',\n",
       " 'lfq_txt/lfq_22.txt',\n",
       " 'lfq_txt/lfq_23.txt',\n",
       " 'lfq_txt/lfq_24.txt',\n",
       " 'lfq_txt/lfq_25.txt',\n",
       " 'lfq_txt/lfq_26.txt',\n",
       " 'lfq_txt/lfq_27.txt',\n",
       " 'lfq_txt/lfq_28.txt',\n",
       " 'lfq_txt/lfq_29.txt',\n",
       " 'lfq_txt/lfq_30.txt',\n",
       " 'lfq_txt/lfq_31.txt',\n",
       " 'lfq_txt/lfq_32.txt',\n",
       " 'lfq_txt/lfq_33.txt',\n",
       " 'lfq_txt/lfq_34.txt',\n",
       " 'lfq_txt/lfq_35.txt',\n",
       " 'lfq_txt/lfq_36.txt',\n",
       " 'lfq_txt/lfq_37.txt',\n",
       " 'lfq_txt/lfq_38.txt',\n",
       " 'lfq_txt/lfq_39.txt',\n",
       " 'lfq_txt/lfq_40.txt',\n",
       " 'lfq_txt/lfq_41.txt',\n",
       " 'lfq_txt/lfq_42.txt',\n",
       " 'lfq_txt/lfq_43.txt',\n",
       " 'lfq_txt/lfq_44.txt',\n",
       " 'lfq_txt/lfq_45.txt',\n",
       " 'lfq_txt/lfq_46.txt',\n",
       " 'lfq_txt/lfq_47.txt',\n",
       " 'lfq_txt/lfq_48.txt',\n",
       " 'lfq_txt/lfq_49.txt',\n",
       " 'lfq_txt/lfq_50.txt',\n",
       " 'lfq_txt/lfq_51.txt',\n",
       " 'lfq_txt/lfq_52.txt',\n",
       " 'lfq_txt/lfq_53.txt',\n",
       " 'lfq_txt/lfq_54.txt',\n",
       " 'lfq_txt/lfq_55.txt',\n",
       " 'lfq_txt/lfq_56.txt',\n",
       " 'lfq_txt/lfq_57.txt',\n",
       " 'lfq_txt/lfq_58.txt',\n",
       " 'lfq_txt/lfq_59.txt',\n",
       " 'lfq_txt/lfq_60.txt',\n",
       " 'lfq_txt/lfq_61.txt',\n",
       " 'lfq_txt/lfq_62.txt',\n",
       " 'lfq_txt/lfq_63.txt',\n",
       " 'lfq_txt/lfq_64.txt',\n",
       " 'lfq_txt/lfq_65.txt',\n",
       " 'lfq_txt/lfq_66.txt',\n",
       " 'lfq_txt/lfq_67.txt',\n",
       " 'lfq_txt/lfq_68.txt',\n",
       " 'lfq_txt/lfq_69.txt',\n",
       " 'lfq_txt/lfq_70.txt',\n",
       " 'lfq_txt/lfq_71.txt',\n",
       " 'lfq_txt/lfq_72.txt',\n",
       " 'lfq_txt/lfq_73.txt',\n",
       " 'lfq_txt/lfq_74.txt',\n",
       " 'lfq_txt/lfq_75.txt',\n",
       " 'lfq_txt/lfq_76.txt',\n",
       " 'lfq_txt/lfq_77.txt',\n",
       " 'lfq_txt/lfq_78.txt',\n",
       " 'lfq_txt/lfq_79.txt',\n",
       " 'lfq_txt/lfq_80.txt',\n",
       " 'lfq_txt/lfq_81.txt',\n",
       " 'lfq_txt/lfq_82.txt',\n",
       " 'lfq_txt/lfq_83.txt']"
      ]
     },
     "execution_count": 11,
     "metadata": {},
     "output_type": "execute_result"
    }
   ],
   "source": [
    "filenamelist"
   ]
  },
  {
   "cell_type": "code",
   "execution_count": 12,
   "metadata": {},
   "outputs": [],
   "source": [
    "wrote_num_txt = 0\n",
    "wrote_num_csv = 0\n",
    "page = 0"
   ]
  },
  {
   "cell_type": "code",
   "execution_count": 14,
   "metadata": {},
   "outputs": [
    {
     "name": "stdout",
     "output_type": "stream",
     "text": [
      "复习期末的这几天，我从钻五到了钻一。  \n",
      "转发理由:恭喜@-席瑾- 1名用户获得【1k】。微博官方唯一抽奖工具@微博抽奖平台 对本次抽奖进行监督，结果公正有效。公示链接：微博抽奖平台 //@_老番茄_:庆祝吃鸡，转发抽1k！明天20点开奖！ 查看图片  \n",
      "转发理由:庆祝吃鸡，转发抽1k！明天20点开奖！ 查看图片  \n",
      "又到了一年两度，万众期待的考前临时抱佛脚时间  \n",
      "默契挑战！看看我和BOY谁才是真正的好兄弟#YSL212#  _老番茄_的微博视频  \n",
      "生日快乐，我的偶像 _老番茄_的微博视频  \n",
      "儿童节快乐！希望我的脸能变回小时候那么圆润！  原图 \n",
      "失去梦想变成大鸡腿  原图 \n",
      "决定利用每天上课开小差的时间学一点蒙语。如果下次回内蒙能看懂蒙文了，说明我这学期一定开了很多小差。  原图 \n",
      "为什么b站在我要交作业之前上线柯南剧场版。可恶，已经看了一天柯南了。  \n",
      "write to .txt over!\n",
      "write 10 weibo to .txt file!\n",
      "There is already 10 weibo in .txt file!\n",
      "write to .csv over!\n",
      "write 10 weibo to .csv file!\n",
      "There is already 10 weibo in .csv file!\n",
      "昨晚失眠睡不着，翻来覆去。四点钟的时候，突然悟到，好像是热得睡不着。于是毅然打开了空调，立马睡着了。  \n",
      "转发理由:给我的好弟弟打call 查看图片 //@最强大脑陆英泽:#最强大脑开播##最强大脑#还有半小时就要开播拉，看不了电视的也可以访问http://t.cn/heFOA收看网络直播  \n",
      "完美还原世界名画！你说我画挑战。天猫搜索OPPO官方旗舰店get同款耳机  _老番茄_的微博视频  \n",
      "藏在黑影中的小怪兽 _老番茄_的微博视频  \n",
      "感谢@腾讯NintendoSwitch 送的国行switch和李维斯联名小夹克儿！耀西真可爱  [组图共3张] 原图 \n",
      "打算做视频之前休息一会→看一眼直播→看到有人在玩奥特曼游戏→勾起回忆→看了一整晚的奥特曼  \n",
      "如何让脸看上去不那么长：强行遮住下巴  原图 \n",
      "分享图片  原图 \n",
      "第一次网课考试，真是有趣的体验。每当抓耳挠腮做不出来的时候，切到会议室，发现同学们也在抓耳挠腮，我就放心了。  \n",
      "还有一天就考试了！开启临时抱佛脚模式！  \n",
      "write to .txt over!\n",
      "write 10 weibo to .txt file!\n",
      "There is already 20 weibo in .txt file!\n",
      "write to .csv over!\n",
      "write 10 weibo to .csv file!\n",
      "There is already 20 weibo in .csv file!\n",
      "#世界读书日# 推荐一下《围城》吧，特有意思。高中看的，大学时出门还经常揣着在飞机上重温（虽然最后都睡着了）  \n",
      "“猫”  原图 \n",
      "最近不知道为啥，总感觉提不起劲，很累，明明也没有很忙。是不是我的内心太想返校上学了。  \n",
      "走到半路下暴雨了，现在是一只瑟瑟发抖的落汤鸡  \n",
      "下课了。明天早上还要起来上课。头发渐渐消失。  \n",
      "他感动的快要哭了。 _老番茄_的微博视频  \n",
      "转发理由:致敬，缅怀。  \n",
      "总算做完视频和封面了，但是明天还有早课和作业🙉🙉🙉头发要掉光了！  原图 \n",
      "不知道为什么，看到这只就想笑  原图 \n",
      "这周有个四个作业要交（还没开始），如果活过这周，我一定好好做视频  \n",
      "write to .txt over!\n",
      "write 10 weibo to .txt file!\n",
      "There is already 30 weibo in .txt file!\n",
      "write to .csv over!\n",
      "write 10 weibo to .csv file!\n",
      "There is already 30 weibo in .csv file!\n",
      "我也开始了  原图 \n",
      "最近外卖点太多了。外卖小哥对我的称呼已经从“张先生”变成了“张哥”，现在是“小张”了。  \n",
      "最近天天失眠，所以今天决定睡前做点作业，帮助自己尽快入眠  \n",
      "晚睡→艰难早起上课→补觉到傍晚→晕乎乎地摸鱼→因为补了觉睡不着→晚睡。  原图 \n",
      "小狗为何愁容满面  原图 \n",
      "谁能想到，正式开始上网课前一天晚上，我通宵玩了一晚上扫雷。  \n",
      "宅在家有什么能拍的生活区视频吗，想不出来！  \n",
      "理完发了，终于重见光明了。  原图 \n",
      "我被黑猫警长抓捕了  原图 \n",
      "涂润唇膏的时候吃了一口，真难吃，我再也不吃润唇膏了。  \n",
      "write to .txt over!\n",
      "write 10 weibo to .txt file!\n",
      "There is already 40 weibo in .txt file!\n",
      "write to .csv over!\n",
      "write 10 weibo to .csv file!\n",
      "There is already 40 weibo in .csv file!\n",
      "明天要开始上网课了，有缘再见  \n",
      "不小心买多了，不得不天天啃草，一天啃两顿草 _老番茄_的微博视频  \n",
      "人类的本质  [组图共2张] 原图 \n",
      "很懒，但又要保证膳食均衡，于是买了一冰箱的黄瓜，现在没事就啃黄瓜，快变成黄瓜人了。  \n",
      "年前忘了去理发的我，现在已经得夹发卡才看得见东西了  \n",
      "真没想到我竟然更新了，真不赖  \n",
      "好闲啊。  原图 \n",
      "转发理由:新年快乐！多夸夸自己！  \n",
      "退烧了。新年快乐，一切顺意！最重要的是身体健康！  \n",
      "分享图片  原图 \n",
      "write to .txt over!\n",
      "write 10 weibo to .txt file!\n",
      "There is already 50 weibo in .txt file!\n",
      "write to .csv over!\n",
      "write 10 weibo to .csv file!\n",
      "There is already 50 weibo in .csv file!\n",
      "从百大回来就一直在发烧，怕传染给别人所以一直把自己关在家里。原定要在春节发的视频做不出来了，非常对不起期待我更新的观众们。好在血氧一直维持在96-97，也没有出现呼吸困难。大家要好好注意身体呀，我继续去瘫着了。  \n",
      "转发理由:我我我，我。。//@复旦大学:让我康康到底是谁家的排面//@上海财经大学:财大排面！老番茄冲！//@哔哩哔哩智能姬:#B站百大UP主#揭晓！快来看看都有谁~~来为喜欢的UP主加油呀！  \n",
      "转发理由:🙊懵了！谢谢财大！//@上海财经大学:财大排面！老番茄冲！//@哔哩哔哩智能姬:#B站百大UP主#揭晓！快来看看都有谁~~来为喜欢的UP主加油呀！  \n",
      "谢谢大家，我太紧张了  原图 \n",
      "哈哈哈哈百大的照片拍的像食人魔  原图 \n",
      "为期两天的寒假小学期结束了！我又放假了！  原图 \n",
      "我又开学啦，哈哈哈哈  原图 \n",
      "我和沼王烛光晚餐🕯🕯  原图 \n",
      "马上最后一门了大家期末加油，我玩会手机。  \n",
      "今天去拍照，我问发型师，我是不是发际线高。她说，不高不高，因为你脸很长，才显得高。我一时不知道是该笑该哭。  \n",
      "write to .txt over!\n",
      "write 10 weibo to .txt file!\n",
      "There is already 60 weibo in .txt file!\n",
      "write to .csv over!\n",
      "write 10 weibo to .csv file!\n",
      "There is already 60 weibo in .csv file!\n",
      "已经好久没在理发店听到“小伙头发挺厚”的夸奖了  原图 \n",
      "看了看年度总结。为什么最多的弹幕是泪目啊哈哈哈哈哈哈哈  [组图共3张] 原图 \n",
      "2020，我来啦！！  [组图共4张] 原图 \n",
      "又到了每学期期末的焦虑时间  \n",
      "给茄酱找了个男朋友  原图 \n",
      "经过一学期的学习，我的编程水平如图。  原图 \n",
      "考研加油！吃好睡好！  原图 \n",
      "冷冷的冰雨在茄上胡乱的拍  原图 \n",
      "得了一下雨就不想上学的怪病  原图 \n",
      "这个狗仿佛在喂奶。  原图 \n",
      "write to .txt over!\n",
      "write 10 weibo to .txt file!\n",
      "There is already 70 weibo in .txt file!\n",
      "write to .csv over!\n",
      "write 10 weibo to .csv file!\n",
      "There is already 70 weibo in .csv file!\n",
      "奇怪，明明什么都没记住一学期就过去了  原图 \n",
      "write to .txt over!\n",
      "write 1 weibo to .txt file!\n",
      "There is already 71 weibo in .txt file!\n",
      "write to .csv over!\n",
      "write 1 weibo to .csv file!\n",
      "There is already 71 weibo in .csv file!\n"
     ]
    }
   ],
   "source": [
    "for page in range(1, 9):\n",
    "    filename = ('lfq_txt/lfq_'+str(page)+'.txt')\n",
    "    hp = html_parser(filename, to_txtfile, to_csvfile,\n",
    "                     wrote_num_txt, wrote_num_txt)\n",
    "    # print(wrote_num_csv)\n",
    "    hp.get_tree()\n",
    "    hp.get_all_weibo()\n",
    "    hp.write_txt()\n",
    "    hp.write_csv()\n",
    "    wrote_num_txt = hp.wrote_num_txt\n",
    "    wrote_num_csv = hp.wrote_num_csv\n",
    "    # print(page)\n",
    "    # print(hp.new_csv_num)\n",
    "    # print(wrote_num_csv)"
   ]
  },
  {
   "cell_type": "code",
   "execution_count": null,
   "metadata": {},
   "outputs": [],
   "source": []
  }
 ],
 "metadata": {
  "kernelspec": {
   "display_name": "Python 3",
   "language": "python",
   "name": "python3"
  },
  "language_info": {
   "codemirror_mode": {
    "name": "ipython",
    "version": 3
   },
   "file_extension": ".py",
   "mimetype": "text/x-python",
   "name": "python",
   "nbconvert_exporter": "python",
   "pygments_lexer": "ipython3",
   "version": "3.7.6"
  }
 },
 "nbformat": 4,
 "nbformat_minor": 4
}
