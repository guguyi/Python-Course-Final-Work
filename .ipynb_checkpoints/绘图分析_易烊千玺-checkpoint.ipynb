{
 "cells": [
  {
   "cell_type": "code",
   "execution_count": 1,
   "metadata": {},
   "outputs": [],
   "source": [
    "import matplotlib.pyplot as plt\n",
    "import numpy as np\n",
    "import csv"
   ]
  },
  {
   "cell_type": "code",
   "execution_count": 2,
   "metadata": {},
   "outputs": [],
   "source": [
    "def get_list(filename,filter):\n",
    "    \"\"\"\n",
    "        filename: .csv文件\n",
    "        filter: filter=1: score只有正负，没有大小\n",
    "        return: score_test, \n",
    "    \"\"\"\n",
    "    with open(filename, 'r', encoding='utf-8') as f:\n",
    "        reader=csv.reader(f)\n",
    "        score=[row[-1] for row in reader][1:]\n",
    "    score=[eval(i) for i in score]\n",
    "    if filter==1:\n",
    "        for i in range(0,len(score)):\n",
    "            if score[i]>0:\n",
    "                score[i]=1\n",
    "            elif score[i]<0:\n",
    "                score[i]=-1\n",
    "\n",
    "    with open(filename, 'r', encoding='utf-8') as f:\n",
    "        reader=csv.reader(f)\n",
    "        is_original=[row[-2] for row in reader][1:]\n",
    "    \n",
    "    return score, is_original"
   ]
  },
  {
   "cell_type": "code",
   "execution_count": 3,
   "metadata": {},
   "outputs": [],
   "source": [
    "# TFBOYS-易烊千玺\n",
    "file_test='yyqx_with_score.csv' # 算法计算出的得分文件\n",
    "file_real='yyqx_with_score_mark.csv' # 真实得分文件\n",
    "score_test,is_original=get_list(file_test,0)\n",
    "score_read=get_list(file_test,0)[0]\n",
    "\n",
    "# 积极情感值列表\n",
    "positive_list=[score_test[i] for i in range(0, len(score_test)) if score_test[i]>0]\n",
    "positive_len=len(positive_list)\n",
    "\n",
    "# 消极情感值列表\n",
    "negative_list=[score_test[i] for i in range(0, len(score_test)) if score_test[i]<0]\n",
    "negative_len=len(negative_list)\n",
    "\n",
    "# 原创列表\n",
    "original_list=[score_test[i] for i in range(0, len(score_test)) if is_original[i]=='True']\n",
    "original_len=len(original_list)\n",
    "\n",
    "# 转发列表\n",
    "repost_list=[score_test[i] for i in range(0, len(score_test)) if is_original[i]=='False']\n",
    "repost_len=len(repost_list)"
   ]
  },
  {
   "cell_type": "code",
   "execution_count": 4,
   "metadata": {},
   "outputs": [],
   "source": [
    "def data_analysis(l, list_name, color='#FF5809'):\n",
    "    \"\"\"\n",
    "        l: list列表\n",
    "        list_name: str 列表名称\n",
    "    \"\"\"\n",
    "    max_num=max(l)\n",
    "    min_num=min(l)\n",
    "    mean=np.mean(l)\n",
    "    var=np.var(l)\n",
    "    bins=20\n",
    "    plt.hist(l,bins=bins,facecolor=color,density=True)\n",
    "    plt.savefig(list_name+'.jpg')\n",
    "    return max_num,min_num,mean,var"
   ]
  },
  {
   "cell_type": "code",
   "execution_count": 5,
   "metadata": {},
   "outputs": [
    {
     "data": {
      "text/plain": [
       "(52.86460538732629, -4.831717674115, 7.855914249344775, 65.688936113492)"
      ]
     },
     "execution_count": 5,
     "metadata": {},
     "output_type": "execute_result"
    },
    {
     "data": {
      "image/png": "[encoded data removed]",
      "text/plain": [
       "<Figure size 432x288 with 1 Axes>"
      ]
     },
     "metadata": {
      "needs_background": "light"
     },
     "output_type": "display_data"
    }
   ],
   "source": [
    "data_analysis(repost_list,'yyqx_repost',color='#FFA042')"
   ]
  },
  {
   "cell_type": "code",
   "execution_count": 6,
   "metadata": {},
   "outputs": [
    {
     "data": {
      "text/plain": [
       "(56.10203155655718, -21.538781844908947, 8.706621956631542, 90.52439289524347)"
      ]
     },
     "execution_count": 6,
     "metadata": {},
     "output_type": "execute_result"
    },
    {
     "data": {
      "image/png": "[encoded data removed]",
      "text/plain": [
       "<Figure size 432x288 with 1 Axes>"
      ]
     },
     "metadata": {
      "needs_background": "light"
     },
     "output_type": "display_data"
    }
   ],
   "source": [
    "data_analysis(original_list,'yyqx_original',color='#C2FF68')"
   ]
  },
  {
   "cell_type": "code",
   "execution_count": 7,
   "metadata": {},
   "outputs": [
    {
     "data": {
      "text/plain": [
       "(56.10203155655718, 0.0126097366198, 9.810839155071303, 75.93191127896128)"
      ]
     },
     "execution_count": 7,
     "metadata": {},
     "output_type": "execute_result"
    },
    {
     "data": {
      "image/png": "[encoded data removed]",
      "text/plain": [
       "<Figure size 432x288 with 1 Axes>"
      ]
     },
     "metadata": {
      "needs_background": "light"
     },
     "output_type": "display_data"
    }
   ],
   "source": [
    "data_analysis(positive_list,'yyqx_positive',color='#7D7DFF')"
   ]
  },
  {
   "cell_type": "code",
   "execution_count": 8,
   "metadata": {},
   "outputs": [
    {
     "data": {
      "text/plain": [
       "(-0.03603061156100018,\n",
       " -21.538781844908947,\n",
       " -2.077424079154257,\n",
       " 10.779822793835253)"
      ]
     },
     "execution_count": 8,
     "metadata": {},
     "output_type": "execute_result"
    },
    {
     "data": {
      "image/png": "[encoded data removed]",
      "text/plain": [
       "<Figure size 432x288 with 1 Axes>"
      ]
     },
     "metadata": {
      "needs_background": "light"
     },
     "output_type": "display_data"
    }
   ],
   "source": [
    "data_analysis(negative_list,'yyqx_negative',color='#C07AB8')"
   ]
  },
  {
   "cell_type": "code",
   "execution_count": 10,
   "metadata": {},
   "outputs": [
    {
     "data": {
      "text/plain": [
       "(56.10203155655718, -21.538781844908947, 8.386065429248124, 81.33604825377256)"
      ]
     },
     "execution_count": 10,
     "metadata": {},
     "output_type": "execute_result"
    },
    {
     "data": {
      "image/png": "[encoded data removed]",
      "text/plain": [
       "<Figure size 432x288 with 1 Axes>"
      ]
     },
     "metadata": {
      "needs_background": "light"
     },
     "output_type": "display_data"
    }
   ],
   "source": [
    "data_analysis(score_test,'yyqx_all',color='#ff9999')"
   ]
  },
  {
   "cell_type": "code",
   "execution_count": null,
   "metadata": {},
   "outputs": [],
   "source": []
  }
 ],
 "metadata": {
  "kernelspec": {
   "display_name": "Python 3",
   "language": "python",
   "name": "python3"
  },
  "language_info": {
   "codemirror_mode": {
    "name": "ipython",
    "version": 3
   },
   "file_extension": ".py",
   "mimetype": "text/x-python",
   "name": "python",
   "nbconvert_exporter": "python",
   "pygments_lexer": "ipython3",
   "version": "3.7.6"
  }
 },
 "nbformat": 4,
 "nbformat_minor": 4
}
