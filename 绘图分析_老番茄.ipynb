{
 "cells": [
  {
   "cell_type": "code",
   "execution_count": 1,
   "metadata": {},
   "outputs": [],
   "source": [
    "import matplotlib.pyplot as plt\n",
    "import numpy as np\n",
    "import csv"
   ]
  },
  {
   "cell_type": "code",
   "execution_count": 2,
   "metadata": {},
   "outputs": [],
   "source": [
    "def get_list(filename,filter):\n",
    "    \"\"\"\n",
    "        filename: .csv文件\n",
    "        filter: filter=1: score只有正负，没有大小\n",
    "        return: score_test, \n",
    "    \"\"\"\n",
    "    with open(filename, 'r', encoding='utf-8') as f:\n",
    "        reader=csv.reader(f)\n",
    "        score=[row[-1] for row in reader][1:]\n",
    "    score=[eval(i) for i in score]\n",
    "    if filter==1:\n",
    "        for i in range(0,len(score)):\n",
    "            if score[i]>0:\n",
    "                score[i]=1\n",
    "            elif score[i]<0:\n",
    "                score[i]=-1\n",
    "\n",
    "    with open(filename, 'r', encoding='utf-8') as f:\n",
    "        reader=csv.reader(f)\n",
    "        is_original=[row[-2] for row in reader][1:]\n",
    "    \n",
    "    return score, is_original"
   ]
  },
  {
   "cell_type": "code",
   "execution_count": 6,
   "metadata": {},
   "outputs": [],
   "source": [
    "# _老番茄_\n",
    "file_test='lfq_with_score.csv' # 算法计算出的得分文件\n",
    "file_real='lfq_with_score_mark.csv' # 真实得分文件\n",
    "score_test,is_original=get_list(file_test,0)\n",
    "score_read=get_list(file_test,0)[0]\n",
    "\n",
    "# 积极情感值列表\n",
    "positive_list=[score_test[i] for i in range(0, len(score_test)) if score_test[i]>0]\n",
    "positive_len=len(positive_list)\n",
    "\n",
    "# 消极情感值列表\n",
    "negative_list=[score_test[i] for i in range(0, len(score_test)) if score_test[i]<0]\n",
    "negative_len=len(negative_list)\n",
    "\n",
    "# 原创列表\n",
    "original_list=[score_test[i] for i in range(0, len(score_test)) if is_original[i]=='True']\n",
    "original_len=len(original_list)\n",
    "\n",
    "# 转发列表\n",
    "repost_list=[score_test[i] for i in range(0, len(score_test)) if is_original[i]=='False']\n",
    "repost_len=len(repost_list)"
   ]
  },
  {
   "cell_type": "code",
   "execution_count": 7,
   "metadata": {},
   "outputs": [],
   "source": [
    "def data_analysis(l, list_name, color='#FF5809'):\n",
    "    \"\"\"\n",
    "        l: list列表\n",
    "        list_name: str 列表名称\n",
    "    \"\"\"\n",
    "    max_num=max(l)\n",
    "    min_num=min(l)\n",
    "    mean=np.mean(l)\n",
    "    var=np.var(l)\n",
    "    bins=20\n",
    "    plt.hist(l,bins=bins,facecolor=color,density=True)\n",
    "    plt.savefig(list_name+'.jpg')\n",
    "    return max_num,min_num,mean,var"
   ]
  },
  {
   "cell_type": "code",
   "execution_count": 8,
   "metadata": {},
   "outputs": [
    {
     "name": "stdout",
     "output_type": "stream",
     "text": [
      "39 29 64 7\n"
     ]
    }
   ],
   "source": [
    "print(positive_len,negative_len,original_len,repost_len)"
   ]
  },
  {
   "cell_type": "code",
   "execution_count": 9,
   "metadata": {},
   "outputs": [
    {
     "data": {
      "text/plain": [
       "(30.602560582269806, 0, 12.513559997920515, 109.05868326789142)"
      ]
     },
     "execution_count": 9,
     "metadata": {},
     "output_type": "execute_result"
    },
    {
     "data": {
      "image/png": "[encoded data removed]",
      "text/plain": [
       "<Figure size 432x288 with 1 Axes>"
      ]
     },
     "metadata": {
      "needs_background": "light"
     },
     "output_type": "display_data"
    }
   ],
   "source": [
    "data_analysis(repost_list,'lfq_repost',color='#FFA042')"
   ]
  },
  {
   "cell_type": "code",
   "execution_count": 10,
   "metadata": {},
   "outputs": [
    {
     "data": {
      "text/plain": [
       "(14.915809818248997,\n",
       " -13.527011818393001,\n",
       " 0.2954634748614381,\n",
       " 16.779417134090778)"
      ]
     },
     "execution_count": 10,
     "metadata": {},
     "output_type": "execute_result"
    },
    {
     "data": {
      "image/png": "[encoded data removed]",
      "text/plain": [
       "<Figure size 432x288 with 1 Axes>"
      ]
     },
     "metadata": {
      "needs_background": "light"
     },
     "output_type": "display_data"
    }
   ],
   "source": [
    "data_analysis(original_list,'lfq_original',color='#FFED97')"
   ]
  },
  {
   "cell_type": "code",
   "execution_count": 11,
   "metadata": {},
   "outputs": [
    {
     "data": {
      "text/plain": [
       "(30.602560582269806, 0.1469939176170001, 4.786991824807055, 40.82981896232055)"
      ]
     },
     "execution_count": 11,
     "metadata": {},
     "output_type": "execute_result"
    },
    {
     "data": {
      "image/png": "[encoded data removed]",
      "text/plain": [
       "<Figure size 432x288 with 1 Axes>"
      ]
     },
     "metadata": {
      "needs_background": "light"
     },
     "output_type": "display_data"
    }
   ],
   "source": [
    "data_analysis(positive_list,'lfq_positive',color='#00E3E3')"
   ]
  },
  {
   "cell_type": "code",
   "execution_count": 12,
   "metadata": {},
   "outputs": [
    {
     "data": {
      "text/plain": [
       "(-0.19383707691500018,\n",
       " -13.527011818393001,\n",
       " -2.765106854858602,\n",
       " 7.972997968661239)"
      ]
     },
     "execution_count": 12,
     "metadata": {},
     "output_type": "execute_result"
    },
    {
     "data": {
      "image/png": "[encoded data removed]",
      "text/plain": [
       "<Figure size 432x288 with 1 Axes>"
      ]
     },
     "metadata": {
      "needs_background": "light"
     },
     "output_type": "display_data"
    }
   ],
   "source": [
    "data_analysis(negative_list,'lfq_negative',color='#B87070')"
   ]
  },
  {
   "cell_type": "code",
   "execution_count": 13,
   "metadata": {},
   "outputs": [
    {
     "data": {
      "text/plain": [
       "(30.602560582269806, -13.527011818393001, 1.50006454051515, 39.1442413146621)"
      ]
     },
     "execution_count": 13,
     "metadata": {},
     "output_type": "execute_result"
    },
    {
     "data": {
      "image/png": "[encoded data removed]",
      "text/plain": [
       "<Figure size 432x288 with 1 Axes>"
      ]
     },
     "metadata": {
      "needs_background": "light"
     },
     "output_type": "display_data"
    }
   ],
   "source": [
    "data_analysis(score_test,'lfq_all',color='#9999ff')"
   ]
  },
  {
   "cell_type": "code",
   "execution_count": null,
   "metadata": {},
   "outputs": [],
   "source": []
  }
 ],
 "metadata": {
  "kernelspec": {
   "display_name": "Python 3",
   "language": "python",
   "name": "python3"
  },
  "language_info": {
   "codemirror_mode": {
    "name": "ipython",
    "version": 3
   },
   "file_extension": ".py",
   "mimetype": "text/x-python",
   "name": "python",
   "nbconvert_exporter": "python",
   "pygments_lexer": "ipython3",
   "version": "3.7.6"
  }
 },
 "nbformat": 4,
 "nbformat_minor": 4
}
